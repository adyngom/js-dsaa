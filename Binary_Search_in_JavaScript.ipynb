{
  "nbformat": 4,
  "nbformat_minor": 0,
  "metadata": {
    "colab": {
      "name": "Binary Search in JavaScript",
      "provenance": [],
      "collapsed_sections": [
        "esOXlc2dL3vT"
      ],
      "machine_shape": "hm",
      "include_colab_link": true
    },
    "kernelspec": {
      "name": "python3",
      "display_name": "Python 3"
    }
  },
  "cells": [
    {
      "cell_type": "markdown",
      "metadata": {
        "id": "view-in-github",
        "colab_type": "text"
      },
      "source": [
        "<a href=\"https://colab.research.google.com/github/adyngom/js-dsaa/blob/main/Binary_Search_in_JavaScript.ipynb\" target=\"_parent\"><img src=\"https://colab.research.google.com/assets/colab-badge.svg\" alt=\"Open In Colab\"/></a>"
      ]
    },
    {
      "cell_type": "markdown",
      "metadata": {
        "id": "YZmkHxlbLuxn"
      },
      "source": [
        "## Basic Setup\n",
        "_To run code code examples, just press the play button below so that the node environment is properly setup_"
      ]
    },
    {
      "cell_type": "code",
      "metadata": {
        "id": "wj2iMlg0Kr8j",
        "outputId": "c8a1991b-7463-48ee-df22-61b6ebb0acd6",
        "colab": {
          "base_uri": "https://localhost:8080/"
        }
      },
      "source": [
        "!pip install pixiedust_node"
      ],
      "execution_count": null,
      "outputs": [
        {
          "output_type": "stream",
          "text": [
            "Requirement already satisfied: pixiedust_node in /usr/local/lib/python3.6/dist-packages (0.2.5)\n",
            "Requirement already satisfied: ipython in /usr/local/lib/python3.6/dist-packages (from pixiedust_node) (5.5.0)\n",
            "Requirement already satisfied: pandas in /usr/local/lib/python3.6/dist-packages (from pixiedust_node) (1.1.4)\n",
            "Requirement already satisfied: pixiedust in /usr/local/lib/python3.6/dist-packages (from pixiedust_node) (1.1.18)\n",
            "Requirement already satisfied: pexpect; sys_platform != \"win32\" in /usr/local/lib/python3.6/dist-packages (from ipython->pixiedust_node) (4.8.0)\n",
            "Requirement already satisfied: pygments in /usr/local/lib/python3.6/dist-packages (from ipython->pixiedust_node) (2.6.1)\n",
            "Requirement already satisfied: setuptools>=18.5 in /usr/local/lib/python3.6/dist-packages (from ipython->pixiedust_node) (50.3.2)\n",
            "Requirement already satisfied: decorator in /usr/local/lib/python3.6/dist-packages (from ipython->pixiedust_node) (4.4.2)\n",
            "Requirement already satisfied: pickleshare in /usr/local/lib/python3.6/dist-packages (from ipython->pixiedust_node) (0.7.5)\n",
            "Requirement already satisfied: simplegeneric>0.8 in /usr/local/lib/python3.6/dist-packages (from ipython->pixiedust_node) (0.8.1)\n",
            "Requirement already satisfied: traitlets>=4.2 in /usr/local/lib/python3.6/dist-packages (from ipython->pixiedust_node) (4.3.3)\n",
            "Requirement already satisfied: prompt-toolkit<2.0.0,>=1.0.4 in /usr/local/lib/python3.6/dist-packages (from ipython->pixiedust_node) (1.0.18)\n",
            "Requirement already satisfied: python-dateutil>=2.7.3 in /usr/local/lib/python3.6/dist-packages (from pandas->pixiedust_node) (2.8.1)\n",
            "Requirement already satisfied: numpy>=1.15.4 in /usr/local/lib/python3.6/dist-packages (from pandas->pixiedust_node) (1.18.5)\n",
            "Requirement already satisfied: pytz>=2017.2 in /usr/local/lib/python3.6/dist-packages (from pandas->pixiedust_node) (2018.9)\n",
            "Requirement already satisfied: markdown in /usr/local/lib/python3.6/dist-packages (from pixiedust->pixiedust_node) (3.3.3)\n",
            "Requirement already satisfied: astunparse in /usr/local/lib/python3.6/dist-packages (from pixiedust->pixiedust_node) (1.6.3)\n",
            "Requirement already satisfied: colour in /usr/local/lib/python3.6/dist-packages (from pixiedust->pixiedust_node) (0.1.5)\n",
            "Requirement already satisfied: lxml in /usr/local/lib/python3.6/dist-packages (from pixiedust->pixiedust_node) (4.2.6)\n",
            "Requirement already satisfied: requests in /usr/local/lib/python3.6/dist-packages (from pixiedust->pixiedust_node) (2.23.0)\n",
            "Requirement already satisfied: geojson in /usr/local/lib/python3.6/dist-packages (from pixiedust->pixiedust_node) (2.5.0)\n",
            "Requirement already satisfied: mpld3 in /usr/local/lib/python3.6/dist-packages (from pixiedust->pixiedust_node) (0.5.1)\n",
            "Requirement already satisfied: ptyprocess>=0.5 in /usr/local/lib/python3.6/dist-packages (from pexpect; sys_platform != \"win32\"->ipython->pixiedust_node) (0.6.0)\n",
            "Requirement already satisfied: six in /usr/local/lib/python3.6/dist-packages (from traitlets>=4.2->ipython->pixiedust_node) (1.15.0)\n",
            "Requirement already satisfied: ipython-genutils in /usr/local/lib/python3.6/dist-packages (from traitlets>=4.2->ipython->pixiedust_node) (0.2.0)\n",
            "Requirement already satisfied: wcwidth in /usr/local/lib/python3.6/dist-packages (from prompt-toolkit<2.0.0,>=1.0.4->ipython->pixiedust_node) (0.2.5)\n",
            "Requirement already satisfied: importlib-metadata; python_version < \"3.8\" in /usr/local/lib/python3.6/dist-packages (from markdown->pixiedust->pixiedust_node) (2.0.0)\n",
            "Requirement already satisfied: wheel<1.0,>=0.23.0 in /usr/local/lib/python3.6/dist-packages (from astunparse->pixiedust->pixiedust_node) (0.35.1)\n",
            "Requirement already satisfied: certifi>=2017.4.17 in /usr/local/lib/python3.6/dist-packages (from requests->pixiedust->pixiedust_node) (2020.6.20)\n",
            "Requirement already satisfied: chardet<4,>=3.0.2 in /usr/local/lib/python3.6/dist-packages (from requests->pixiedust->pixiedust_node) (3.0.4)\n",
            "Requirement already satisfied: idna<3,>=2.5 in /usr/local/lib/python3.6/dist-packages (from requests->pixiedust->pixiedust_node) (2.10)\n",
            "Requirement already satisfied: urllib3!=1.25.0,!=1.25.1,<1.26,>=1.21.1 in /usr/local/lib/python3.6/dist-packages (from requests->pixiedust->pixiedust_node) (1.24.3)\n",
            "Requirement already satisfied: matplotlib in /usr/local/lib/python3.6/dist-packages (from mpld3->pixiedust->pixiedust_node) (3.2.2)\n",
            "Requirement already satisfied: jinja2 in /usr/local/lib/python3.6/dist-packages (from mpld3->pixiedust->pixiedust_node) (2.11.2)\n",
            "Requirement already satisfied: zipp>=0.5 in /usr/local/lib/python3.6/dist-packages (from importlib-metadata; python_version < \"3.8\"->markdown->pixiedust->pixiedust_node) (3.4.0)\n",
            "Requirement already satisfied: cycler>=0.10 in /usr/local/lib/python3.6/dist-packages (from matplotlib->mpld3->pixiedust->pixiedust_node) (0.10.0)\n",
            "Requirement already satisfied: kiwisolver>=1.0.1 in /usr/local/lib/python3.6/dist-packages (from matplotlib->mpld3->pixiedust->pixiedust_node) (1.3.1)\n",
            "Requirement already satisfied: pyparsing!=2.0.4,!=2.1.2,!=2.1.6,>=2.0.1 in /usr/local/lib/python3.6/dist-packages (from matplotlib->mpld3->pixiedust->pixiedust_node) (2.4.7)\n",
            "Requirement already satisfied: MarkupSafe>=0.23 in /usr/local/lib/python3.6/dist-packages (from jinja2->mpld3->pixiedust->pixiedust_node) (1.1.1)\n"
          ],
          "name": "stdout"
        }
      ]
    },
    {
      "cell_type": "code",
      "metadata": {
        "id": "n2n-34ZYKyL4"
      },
      "source": [
        "import pixiedust_node"
      ],
      "execution_count": null,
      "outputs": []
    },
    {
      "cell_type": "code",
      "metadata": {
        "id": "hcON8RvCLZc5",
        "outputId": "1decf850-822a-4a69-aea8-63fd3db42903",
        "colab": {
          "base_uri": "https://localhost:8080/"
        }
      },
      "source": [
        "%%node\n",
        "console.log('Binary')"
      ],
      "execution_count": null,
      "outputs": [
        {
          "output_type": "stream",
          "text": [
            "Binary\n"
          ],
          "name": "stdout"
        }
      ]
    },
    {
      "cell_type": "markdown",
      "metadata": {
        "id": "nWWvALZnvqfD"
      },
      "source": [
        "## Binary Search in JavaScript"
      ]
    },
    {
      "cell_type": "markdown",
      "metadata": {
        "id": "wNjEz_NVNBD_"
      },
      "source": [
        "Binary or logarithmic search is the de facto approach advised when searching for an item within a sorted array. It really outshines linear search in that context as the array grows in size. \n",
        "\n"
      ]
    },
    {
      "cell_type": "markdown",
      "metadata": {
        "id": "pF-7G5THOfKQ"
      },
      "source": [
        "For example a worst case scenario in a sorted  array of a million items, will take a maximum of cutting it in half only 21 times in a binary search as opposed to a  whole million lookups in a linear search.\n",
        "\n",
        "Once again we need to put the emphasis on the fact that the array needs to be already sorted. \n"
      ]
    },
    {
      "cell_type": "markdown",
      "metadata": {
        "id": "JIJXYNb0QUh4"
      },
      "source": [
        "Implementing it in JavaScript is less challenging once we have a solid understanding of maintaining **two pointers** which we will call ***minimumIndex*** and **maximumIndex**.  "
      ]
    },
    {
      "cell_type": "markdown",
      "metadata": {
        "id": "oRpVv19lQmdc"
      },
      "source": [
        "Those two indexes define the range of the search area and will start at the beginning and the end of the sorted array.\n",
        "Once we have the range we will check for a match with the ***middleIndex*** of the defined range which is the **sum of min + max divided by two** or:"
      ]
    },
    {
      "cell_type": "markdown",
      "metadata": {
        "id": "j1RTGtSERe7k"
      },
      "source": [
        "```javascript\n",
        "let middleIndex = Math.floor((minimumIndex + maximumIndex) / 2);\n",
        "```"
      ]
    },
    {
      "cell_type": "markdown",
      "metadata": {
        "id": "U-KlCcWmSQ7m"
      },
      "source": [
        "Now if the value of the array at the middle index is equal to the value we are searching - yay we are done and we return it. \n",
        "```javascript\n",
        "if ( arr[middleIndex] === searchValue ) {\n",
        "  return `Value ${searchValue} found in array at index: ${middleIndex} \\n`;\n",
        "}\n",
        "```"
      ]
    },
    {
      "cell_type": "markdown",
      "metadata": {
        "id": "pB8N53zhpK_v"
      },
      "source": [
        "Where it becomes interesting and where binary search really shines is when we don't find the value in that first [lucky] try :)\n",
        "\n",
        "In the case that the ***value found is less than what we are searching for***, we can with no doubt assume that **anything placed on the left side of the middle index will never satisfy our search and in one sweep we can proceed to reduce 50% of the search area**.\n"
      ]
    },
    {
      "cell_type": "markdown",
      "metadata": {
        "id": "oWowPaoHqT3A"
      },
      "source": [
        "Now we will move our lowest pointer one index up from the middle and focus our search from that new index to the end.\n",
        "```javascript\n",
        "if( arr[middleIndex] < searchValue ) {\n",
        "\tminimumIndex = middleIndex + 1;\n",
        "}\n",
        "```"
      ]
    },
    {
      "cell_type": "markdown",
      "metadata": {
        "id": "nerau5T6qls8"
      },
      "source": [
        "Similarly, you can imagine we will do the opposite **if the value is greater than the one found in the middle where we would now eliminate anything on the right** and lower the ***maximumIndex*** to define the new range\n",
        "```javascript\n",
        "if( arr[middleIndex] > value ) {\n",
        "\tmaximumIndex = middleIndex - 1;\n",
        "}\n",
        "```\n"
      ]
    },
    {
      "cell_type": "markdown",
      "metadata": {
        "id": "jpVUpYt4r9wx"
      },
      "source": [
        "Now we could write the entire logic in a **loop** or in a **recursive way** but we need a base condition to prevent the loop to go indefinitely.\n",
        "\n",
        "How do we know that we have visited all halves and more importantly how do we know that the value does not exist in the array?\n"
      ]
    },
    {
      "cell_type": "markdown",
      "metadata": {
        "id": "JiZWmKHesUtr"
      },
      "source": [
        "Our base condition should ensure that ***minimumIndex*** **is always less** than ***maximumIndex*** to prevent it from going out of bounds. The moment it becomes equal or more, we know that we have exhausted all halves\n",
        "\n",
        "We can capture that in a while loop for example:\n",
        "```javascript\n",
        "while( minimumIndex <= maximumIndex ) {\n",
        "\t// body of loop\n",
        "}\n",
        "```\n"
      ]
    },
    {
      "cell_type": "markdown",
      "metadata": {
        "id": "rhvHSb4ys-uZ"
      },
      "source": [
        "One last safeguard is to ensure that the loop breaks once we find the value. \n",
        "\n",
        "In JavaScript a return statement breaks out of most loops, foreach being an exception. So writing the pseudocode for binary search function could be:\n",
        "\n",
        "```javascript\n",
        "/**\n",
        "while( minimumIndex <= maximumIndex ) {\n",
        "\t// found a match\n",
        "  if value at middleIndex is same as searchValue return middleIndex;\n",
        "\n",
        "  // found value is less\n",
        "  if value at middleIndex is less eliminate 50% of the search on the right\n",
        "  and lower maximumIndex to middleIndex - 1\n",
        "\n",
        "  // found value is more\n",
        "  if value at middleIndex is more eliminate 50% of the search on the left\n",
        "  and increment minimumIndex to minimumIndex + 1 \n",
        "}\n",
        "\n",
        "// if out of loop is reached, value was not found\n",
        "// return -1;\n",
        "**/\n",
        "```"
      ]
    },
    {
      "cell_type": "markdown",
      "metadata": {
        "id": "TTnWXi2A_93q"
      },
      "source": [
        "Now as an exercise, create a function called BinarySearch that is receiving an array and a value as arguments. Using the pseudocode provided, add the missing parts and test it against the below sample data:\n",
        "```javascript\n",
        "function BinarySearch( arr, value ) {\n",
        "  // put your code here\n",
        "}\n",
        "\n",
        "let arr = [1,2,3,4,5,6,7,8,9,10];\n",
        "console.log(BinarySearch(arr, 3));\n",
        "\n",
        "// this should log the index of 3 which is 2\n",
        "```\n"
      ]
    },
    {
      "cell_type": "markdown",
      "metadata": {
        "id": "t5FbQt8tCeQG"
      },
      "source": [
        "Now that you have written and more importantly understood a binary search in JS, you can put it to good use using a bigger data set with the below exercise for example. "
      ]
    },
    {
      "cell_type": "markdown",
      "metadata": {
        "id": "w2oy_bDKC2iB"
      },
      "source": [
        "***You are given an array containing the first 1000 prime numbers, find if value x is a prime number and return it’s position y.*** \n",
        "\n",
        "***x is a positive integer between 0 and 8000.***\n",
        "\n",
        "***For example if you find x, you should return a string with this message:***\n",
        "\n",
        "```\n",
        "x is a prime number and was found at index y\n",
        "```\n",
        "\n",
        "***if not***\n",
        "\n",
        "```\n",
        "x is not a prime number\n",
        "```"
      ]
    },
    {
      "cell_type": "markdown",
      "metadata": {
        "id": "dvpnOG49FVk1"
      },
      "source": [
        "Once you are happy with your implementation, you can then move on to the next part and compare with the complete solution"
      ]
    },
    {
      "cell_type": "markdown",
      "metadata": {
        "id": "DXrubo8QGqBR"
      },
      "source": [
        "# Final"
      ]
    },
    {
      "cell_type": "code",
      "metadata": {
        "id": "HY6ztWonGFG6"
      },
      "source": [
        "%%node\n",
        "function BinarySearch(arr, value) {\n",
        "    let min = 0;\n",
        "    let max = arr.length - 1;\n",
        "    let guessIndex;\n",
        "    let tempValue;\n",
        "\n",
        "    let lookup = 0;\n",
        "\n",
        "    while (max >= min ) {\n",
        "        guessIndex = Math.floor(( min + max ) / 2);\n",
        "        tempValue = arr[guessIndex];\n",
        "\n",
        "        console.log(`l-${lookup}: low: ${min}, high: ${max}, midValue: ${tempValue}`)\n",
        "        if( tempValue == value ) {\n",
        "            return `Value ${value} found in array at index: ${guessIndex} \\n`;\n",
        "        }\n",
        "\n",
        "        if( tempValue > value) {\n",
        "            max = guessIndex - 1;\n",
        "        }\n",
        "\n",
        "        if ( tempValue < value ) {\n",
        "            min = guessIndex + 1;\n",
        "        }\n",
        "\n",
        "        lookup++;\n",
        "\n",
        "    }\n",
        "    return `Value ${value} was not found in this array \\n`;\n",
        "}\n",
        "\n"
      ],
      "execution_count": null,
      "outputs": []
    },
    {
      "cell_type": "code",
      "metadata": {
        "id": "fkZHugttGSr1",
        "outputId": "76d51387-3348-4c7f-843f-fefde03f5595",
        "colab": {
          "base_uri": "https://localhost:8080/"
        }
      },
      "source": [
        "%%node\n",
        "var arr = [1,2,3,4,5,6,7,8,9,10];\n",
        "console.log(BinarySearch(arr, 3));"
      ],
      "execution_count": null,
      "outputs": [
        {
          "output_type": "stream",
          "text": [
            "l-0: low: 0, high: 9, midValue: 5\n",
            "l-1: low: 0, high: 3, midValue: 2\n",
            "l-2: low: 2, high: 3, midValue: 3\n",
            "Value 3 found in array at index: 2\n"
          ],
          "name": "stdout"
        }
      ]
    }
  ]
}